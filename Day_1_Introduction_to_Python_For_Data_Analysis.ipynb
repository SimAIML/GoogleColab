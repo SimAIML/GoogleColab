{
  "nbformat": 4,
  "nbformat_minor": 0,
  "metadata": {
    "colab": {
      "provenance": [],
      "toc_visible": true,
      "authorship_tag": "ABX9TyN7VpHmj1d4iNfaEAsJXQRv",
      "include_colab_link": true
    },
    "kernelspec": {
      "name": "python3",
      "display_name": "Python 3"
    },
    "language_info": {
      "name": "python"
    }
  },
  "cells": [
    {
      "cell_type": "markdown",
      "metadata": {
        "id": "view-in-github",
        "colab_type": "text"
      },
      "source": [
        "<a href=\"https://colab.research.google.com/github/SimAIML/GoogleColab/blob/main/Day_1_Introduction_to_Python_For_Data_Analysis.ipynb\" target=\"_parent\"><img src=\"https://colab.research.google.com/assets/colab-badge.svg\" alt=\"Open In Colab\"/></a>"
      ]
    },
    {
      "cell_type": "code",
      "execution_count": null,
      "metadata": {
        "id": "hfZb5bqp8g9z"
      },
      "outputs": [],
      "source": []
    },
    {
      "cell_type": "markdown",
      "source": [
        "# Day 1 Concepts"
      ],
      "metadata": {
        "id": "tLH-PKYi-Phg"
      }
    },
    {
      "cell_type": "markdown",
      "source": [
        "# Numpy"
      ],
      "metadata": {
        "id": "PcIHe9HD-TSW"
      }
    },
    {
      "cell_type": "code",
      "source": [],
      "metadata": {
        "id": "izLjOb_Q-Vwj"
      },
      "execution_count": null,
      "outputs": []
    },
    {
      "cell_type": "markdown",
      "source": [
        "# Pandas"
      ],
      "metadata": {
        "id": "Q7h4F--G-WP9"
      }
    },
    {
      "cell_type": "code",
      "source": [],
      "metadata": {
        "id": "crxPt7nG-Zcr"
      },
      "execution_count": null,
      "outputs": []
    },
    {
      "cell_type": "markdown",
      "source": [
        "# Visualization"
      ],
      "metadata": {
        "id": "81mxUV78-aEs"
      }
    },
    {
      "cell_type": "markdown",
      "source": [
        "# Exploraratory Data Analysis"
      ],
      "metadata": {
        "id": "A3llpD-q-dw0"
      }
    },
    {
      "cell_type": "markdown",
      "source": [
        "# Machine Learning"
      ],
      "metadata": {
        "id": "fgdVwwdm-jkc"
      }
    },
    {
      "cell_type": "code",
      "source": [],
      "metadata": {
        "id": "I1RdhG6N-nUs"
      },
      "execution_count": null,
      "outputs": []
    },
    {
      "cell_type": "markdown",
      "source": [
        "# Deep Learning"
      ],
      "metadata": {
        "id": "9MU6q7cX-nym"
      }
    },
    {
      "cell_type": "markdown",
      "source": [
        "# Natual Language Peocessing"
      ],
      "metadata": {
        "id": "j17VnUID-sO1"
      }
    },
    {
      "cell_type": "code",
      "source": [],
      "metadata": {
        "id": "1T1-ULIy-wka"
      },
      "execution_count": null,
      "outputs": []
    },
    {
      "cell_type": "markdown",
      "source": [
        "# Time Series Forecast"
      ],
      "metadata": {
        "id": "EFf9hD8t-xA8"
      }
    },
    {
      "cell_type": "code",
      "source": [],
      "metadata": {
        "id": "iK7N8wAn-z0L"
      },
      "execution_count": null,
      "outputs": []
    }
  ]
}